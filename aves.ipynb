{
 "cells": [
  {
   "cell_type": "code",
   "execution_count": 17,
   "metadata": {},
   "outputs": [],
   "source": [
    "import requests, json\n",
    "import csv"
   ]
  },
  {
   "cell_type": "code",
   "execution_count": 18,
   "metadata": {},
   "outputs": [],
   "source": [
    "def request_get(url):\n",
    "    return json.loads(requests.get(url).text)"
   ]
  },
  {
   "cell_type": "code",
   "execution_count": 19,
   "metadata": {},
   "outputs": [],
   "source": [
    "# consumo api general\n",
    "url = \"https://aves.ninjas.cl/api/birds\"\n",
    "results = request_get(url)"
   ]
  },
  {
   "cell_type": "code",
   "execution_count": 20,
   "metadata": {},
   "outputs": [
    {
     "data": {
      "text/plain": [
       "{'uid': '76-buteo-albigula',\n",
       " 'name': {'spanish': 'Aguilucho Chico',\n",
       "  'english': 'White-throated Hawk',\n",
       "  'latin': 'Buteo albigula'},\n",
       " 'images': {'main': 'https://aves.ninjas.cl/api/site/assets/files/3099/17082018024245aguilucho_chico_tomas_rivas_web.200x0.jpg',\n",
       "  'full': 'https://aves.ninjas.cl/api/site/assets/files/3099/17082018024245aguilucho_chico_tomas_rivas_web.jpg',\n",
       "  'thumb': 'https://aves.ninjas.cl/api/site/assets/files/3099/17082018024245aguilucho_chico_tomas_rivas_web.200x0.jpg'},\n",
       " '_links': {'self': 'https://aves.ninjas.cl/api/birds/76-buteo-albigula',\n",
       "  'parent': 'https://aves.ninjas.cl/api/birds'},\n",
       " 'sort': 0}"
      ]
     },
     "execution_count": 20,
     "metadata": {},
     "output_type": "execute_result"
    }
   ],
   "source": [
    "# vista json\n",
    "results[0]"
   ]
  },
  {
   "cell_type": "code",
   "execution_count": 21,
   "metadata": {},
   "outputs": [],
   "source": [
    "# obtención de link de cada ave\n",
    "list_url = []\n",
    "for result in results:\n",
    "    list_url.append(result['_links']['self'])"
   ]
  },
  {
   "cell_type": "code",
   "execution_count": 22,
   "metadata": {},
   "outputs": [],
   "source": [
    "# consumo api por cada ave\n",
    "results_list = []\n",
    "\n",
    "for url_tmp in list_url:\n",
    "    results_tmp = request_get(url_tmp)\n",
    "    results_list.append(results_tmp)"
   ]
  },
  {
   "cell_type": "code",
   "execution_count": 23,
   "metadata": {},
   "outputs": [
    {
     "data": {
      "text/plain": [
       "{'uid': '76-buteo-albigula',\n",
       " 'name': {'spanish': 'Aguilucho Chico',\n",
       "  'english': 'White-throated Hawk',\n",
       "  'latin': 'Buteo albigula'},\n",
       " 'map': {'image': 'https://aves.ninjas.cl/api/site/assets/files/3100/map.svg',\n",
       "  'title': 'Entre la Región de Valparaíso y la Región de Aysén'},\n",
       " 'iucn': {'title': 'Menor riesgo (LC)',\n",
       "  'description': 'Según la lista roja de los vertebrados del mundo de la Unión Internacional para la Conservación de la Naturaleza (IUCN), el aguilucho chico está catalogado como especie de preocupación menor (LC), sin embargo, su población podría verse afectada por la destrucción y contaminació,n de su hábitat, caza, recolección de huevos y por el ataque de perros, gatos, visones o interacción con otros animales exóticos invasivos.'},\n",
       " 'habitat': 'Se le puede observar solitario o en parejas volando ágilmente en los bosques de Nothofagus (robles, coigües, peumos y Araucarias, pero vuela en zonas abiertas y montañosas. Su rango de distribución en Chile va desde la región de Atacama hasta Aysén desde la costa hasta los 2.000 msnm. El aguilucho chico también habita en el sur de Argentina. En otoño estas aves migran a otras zonas de Latinoamérica como Perú, Bolivia, Ecuador, Colombia y Venezuela. Su nido lo fabrica con ramas, musgos y líquenes en el cual coloca hasta entre uno a dos huevos blancos.',\n",
       " 'didyouknow': 'El Aguilucho chico es el único rapaz que se reproduce en el sur de Sudamérica y realiza migraciones trans-hemisféricas durante el invierno austral. La incubación de los huevos dura alrededor de un mes y es efectuada por ambos padres.',\n",
       " 'migration': True,\n",
       " 'dimorphism': False,\n",
       " 'size': '38 - 48 cm.',\n",
       " 'order': 'Accipitriformes',\n",
       " 'species': 'Nativa',\n",
       " 'images': {'main': 'https://aves.ninjas.cl/api/site/assets/files/3099/17082018024245aguilucho_chico_tomas_rivas_web.jpg',\n",
       "  'gallery': [{'url': 'https://aves.ninjas.cl/api/site/assets/files/3099/17082018024245aguilucho_chico_tomas_rivas_web-1.jpg'}]},\n",
       " 'audio': {},\n",
       " '_links': {'self': 'https://aves.ninjas.cl/api/birds/76-buteo-albigula',\n",
       "  'parent': 'https://aves.ninjas.cl/api/birds'},\n",
       " 'sort': 0}"
      ]
     },
     "execution_count": 23,
     "metadata": {},
     "output_type": "execute_result"
    }
   ],
   "source": [
    "results_list[0]"
   ]
  },
  {
   "cell_type": "code",
   "execution_count": 24,
   "metadata": {},
   "outputs": [],
   "source": [
    "# Agrego info\n",
    "lista_info = []\n",
    "\n",
    "for i in results_list:\n",
    "    dict_info_temp = {}\n",
    "    dict_info_temp['id'] = i['uid']\n",
    "    dict_info_temp['nombre_esp'] = i['name']['spanish']\n",
    "    dict_info_temp['nombre_eng'] = i['name']['english']\n",
    "    dict_info_temp['nombre_lat'] = i['name']['latin']\n",
    "    dict_info_temp['mapa'] = i['map']['image']\n",
    "    dict_info_temp['titulo'] = i['map']['title']\n",
    "    dict_info_temp['habitat'] = i['habitat']\n",
    "    dict_info_temp['sabias que'] = i['didyouknow']\n",
    "    dict_info_temp['migracion'] = i['migration']\n",
    "    dict_info_temp['dimorfismo'] = i['dimorphism']\n",
    "    dict_info_temp['tamaño'] = i['size']\n",
    "    dict_info_temp['orden'] = i['order']\n",
    "    dict_info_temp['especie'] = i['species']\n",
    "    dict_info_temp['url_imagen'] = i['images']['main']\n",
    "    dict_info_temp['url_ave'] = i['_links']['self']\n",
    "\n",
    "    lista_info.append(dict_info_temp)"
   ]
  },
  {
   "cell_type": "code",
   "execution_count": 25,
   "metadata": {},
   "outputs": [
    {
     "name": "stdout",
     "output_type": "stream",
     "text": [
      "Los datos se han guardado en \"info_aves.csv\"\n"
     ]
    }
   ],
   "source": [
    "# Nombre archivo .csv\n",
    "csv_file = \"info_aves.csv\"\n",
    "\n",
    "# Crear y abrir el archivo CSV en modo escritura\n",
    "with open(csv_file, 'w', newline='') as file:\n",
    "    fieldnames = ['id', 'nombre_esp', 'nombre_eng', 'nombre_lat', 'mapa', 'titulo', 'habitat','sabias que', 'migracion', 'dimorfismo', 'tamaño', 'orden', 'especie', 'url_imagen', 'url_ave']\n",
    "    writer = csv.DictWriter(file, fieldnames=fieldnames)\n",
    "\n",
    "    # Fila de encabezado\n",
    "    writer.writeheader()\n",
    "\n",
    "    # Escribir datos\n",
    "    for info in lista_info:\n",
    "        writer.writerow(info)\n",
    "\n",
    "print(f'Los datos se han guardado en \"{csv_file}\"')"
   ]
  },
  {
   "cell_type": "code",
   "execution_count": 26,
   "metadata": {},
   "outputs": [],
   "source": [
    "import pandas as pd\n",
    "df = pd.read_csv('info_aves.csv')"
   ]
  },
  {
   "cell_type": "code",
   "execution_count": 27,
   "metadata": {},
   "outputs": [
    {
     "data": {
      "text/plain": [
       "Index(['id', 'nombre_esp', 'nombre_eng', 'nombre_lat', 'mapa', 'titulo',\n",
       "       'habitat', 'sabias que', 'migracion', 'dimorfismo', 'tamaño', 'orden',\n",
       "       'especie', 'url_imagen', 'url_ave'],\n",
       "      dtype='object')"
      ]
     },
     "execution_count": 27,
     "metadata": {},
     "output_type": "execute_result"
    }
   ],
   "source": [
    "df.columns"
   ]
  }
 ],
 "metadata": {
  "kernelspec": {
   "display_name": "base",
   "language": "python",
   "name": "python3"
  },
  "language_info": {
   "codemirror_mode": {
    "name": "ipython",
    "version": 3
   },
   "file_extension": ".py",
   "mimetype": "text/x-python",
   "name": "python",
   "nbconvert_exporter": "python",
   "pygments_lexer": "ipython3",
   "version": "3.9.16"
  }
 },
 "nbformat": 4,
 "nbformat_minor": 2
}
